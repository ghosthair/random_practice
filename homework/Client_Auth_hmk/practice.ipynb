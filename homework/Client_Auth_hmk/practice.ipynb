{
 "cells": [
  {
   "cell_type": "code",
   "execution_count": null,
   "id": "93cdab83",
   "metadata": {},
   "outputs": [
    {
     "name": "stdout",
     "output_type": "stream",
     "text": [
      "32\n",
      "Encrypted message: b'V\\xa8\\xd3\\xb5\\x03\\x8e\\xc2\\x8c\\tF-\\xe1\\xfbd\\xb4\\x7f\\x88\\xdd\\xf8Z\\x95\\xf7\\x9d[I\\xd2ZVS+&D_\\xc5;\\\\GV4\\xd0\\x7f[O\\xfa\\x1e{\\xdfO\\x15\\x84ZQ\\x8d\\x82@\\xca\\x07k\\x8a\\xf8\\r\\xd3B\\x1a\\x08Z8\\xfbG\\x10\\x10\\xdb\\xb6\\x8fX\\x80=\\x86V\\xd4[K<T\\x85\\x11\\xf6#\\xa3X@lk-\\x96a\\x8c6zJ\\x1d\\xcb\\xd4\\x9dc1\\xd8\\xb4\\x16V\\x10\\x1f\\x15\\x1d\\xb1m\\xb2\\xcf\\x02\\xffTV\\xf6W\\x9f\\xd2\\xac\\x0cp\\xf0$mq\\xf1\\xa1\\xd8\\x9e\\xbf\\xf1\\xc0\\x93e\\xf3/0ao(<\\x91\\x0f\\xf6G\\xb6\\xf8\\x88\\xcb/2>\\xe8\\x14\\xf0\\xbdlA\\xf8\\xe2)6\\xce\\xc7U\\x06\\xbf\\xdd\\x8e\\x08\\x9c\\x12Q\\xd3C\\xce\\x1c$\\xd8\\xc9y\\xeb\\xfd\\xb7zZ\\xf1V\\x82\\xecj\\xbeF<\\x94\\x15\\xb8,n\\xc2\\xfeJ\\x02|\\x12\\x9a\\xa4\\xab\\xea\\xdciX#\\x0e`:\\xfa M\\xca\\x97d\\x08\\x0f\\xd9\\xf4\\xf9&tH\\xce\\xb3\\x14\\xf9XH\\xcaL\\x08\\xfd\\xb7\\xe3\\xa7\\x7f\\xe9\\x9b\\xe5]'\n",
      "Signed message: b'I\\xbd\\xa3\\xe3\\xc3\\xca\\x0f\\x8d\\x87e\\x17\\t\\x0c\\xbf\\x1d\\xe0:\\xc4\\xeb\\xe7\\xac\\x84Kk\\x91\\xfa\\x9c\\xc05\\xe8S{\\xe2\\xa5\\xeaA\\xa4~\\xe3\\x0e\\xea\\x04\\xa0p\\\\2\\xf1\\xab\\x94\\xf5vFia\\xbdMM\\xd4u\\x8d#\\xd7\\x04\\n\\xf3\\xbb\\x07\\xd9Z\\xf7\\x8c\\x13S\\xb5\\x19\\xd4`\\xb2\\x93\\xeb[\\xa9\\x19\\xcc\\xeb\\x91\\x05\\x93\\xe6\\xab\\xb7b\\xdb\\x19\\xbd\\xf7\\xe0\\xe7,\\xe9\\x13\\xf6\\x1b\\x87\\x13\\xd1\\xd2\\xdf\\x0e\\xdb\\x0e\\x9b,\\xbb\\xdd*\\xa7u\\xc8 \\xa2\\xea\\xc2\\xe3\\x16X.\\x1a\\xf5O|UY6\\x1c!\\xd8\\x02A\\xe0\\xb7\\xe310$s\\xe0\\xb8\\x12?\\x14\\x1e\\x9e\\xf1\\xb4\\x1d\\xf7jj\\xea\\x87MV\\x05\\xbd&B\\xae=\\x95\\x0fu\\xb9\\xf2\\xa2\\xa1\\xe0h+\\xe9\\x1aT\\x8f/\\xaf\\x8f\\xc2vy\\xef)\\xa2\\xd0+\\x0ci\\xb2\\x14\\x1b\\x9f\\xb0\\xb7Ei\\x90\\xd6v\\x13\\x9d\\xc4\\x9b\\xa5\\x89\\xc6\\x98\\xed\\x17\\xb37p\\xb7\\xe5&\\xf5\\x19\\xa4\\xd8\\x1d\\x1e\\xf7u\\x158\\x83\\xbc76\\xc4\\xc7O\\x18uIK\\x96\\xe1\\xc6\\x83\\x0b\\xb8/\\x88\\x87\\xca\\xde\\xc6'\n"
     ]
    }
   ],
   "source": [
    "import os, time\n",
    "from cryptography.hazmat.primitives.ciphers import Cipher, algorithms, modes\n",
    "from cryptography.hazmat.primitives import padding as sym_padding\n",
    "from cryptography.hazmat.primitives import hashes, serialization\n",
    "from cryptography.hazmat.primitives.asymmetric import rsa, padding\n",
    "\n",
    "def aes_env():\n",
    "    '''\n",
    "    Session is a random 32 byte number\n",
    "    Sequence starts off as a \n",
    "    \n",
    "    '''\n",
    "    session = os.urandom(26)\n",
    "    sequence = 10000\n",
    "    seq_bytes = sequence.to_bytes(2, byteorder='big')\n",
    "    time_stmp = int(time.time())\n",
    "    time_bytes = time_stmp.to_bytes(4, 'big')\n",
    "    session_key = session + seq_bytes + time_bytes\n",
    "    # print(len(session_key))\n",
    "\n",
    "    with open(\"server_pubkey\", \"rb\") as f:\n",
    "        pem_pub = f.read()\n",
    "    public_key = serialization.load_pem_public_key(pem_pub)\n",
    "\n",
    "    with open(\"client_prikey\", \"rb\") as e:\n",
    "        client_private_key = serialization.load_pem_private_key(\n",
    "            e.read(),\n",
    "            password=None\n",
    "        )\n",
    "    \n",
    "    ciphertext = public_key.encrypt(\n",
    "        session_key,\n",
    "        padding.OAEP(\n",
    "            mgf=padding.MGF1(algorithm=hashes.SHA256()),\n",
    "            algorithm=hashes.SHA256(),\n",
    "            label=None\n",
    "        )\n",
    "    )\n",
    "\n",
    "    signed_session = client_private_key.sign(\n",
    "        ciphertext,\n",
    "        padding.PSS(\n",
    "            mgf=padding.MGF1(hashes.SHA256()),\n",
    "            salt_length=padding.PSS.MAX_LENGTH\n",
    "        ),\n",
    "        hashes.SHA256()\n",
    "    )\n",
    "\n",
    "    return ciphertext, signed_session\n",
    "\n",
    "\n",
    "\n",
    "x, y = aes_env()\n",
    "print(f\"Encrypted message: {x}\")\n",
    "print(f\"Signed message: {y}\")"
   ]
  },
  {
   "cell_type": "markdown",
   "id": "a4fad049",
   "metadata": {},
   "source": [
    "## Current Work\n",
    "- Currently I generate a session key from a 26 byte random number, then add 2 byte sequence number and 4 byte time. Makes a 32 byte session key, I then encrypt it and sign the encryption. I can send all of this to the server.\n",
    "- Server todo's\n",
    "  - Take message, check signature \n",
    "  - Once confirmed parse out session key\n",
    "  - If time is within 10 seconds good\n",
    "  - Add one to sequence\n",
    "  - I probably need to keep squence out of the session key but I can add it to the message so it can properly be tracked.\n",
    "  - Then keep working towards how the message is read and decrypted."
   ]
  }
 ],
 "metadata": {
  "kernelspec": {
   "display_name": ".venv",
   "language": "python",
   "name": "python3"
  },
  "language_info": {
   "codemirror_mode": {
    "name": "ipython",
    "version": 3
   },
   "file_extension": ".py",
   "mimetype": "text/x-python",
   "name": "python",
   "nbconvert_exporter": "python",
   "pygments_lexer": "ipython3",
   "version": "3.13.3"
  }
 },
 "nbformat": 4,
 "nbformat_minor": 5
}
