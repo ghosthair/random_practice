{
 "cells": [
  {
   "cell_type": "code",
   "execution_count": 4,
   "id": "f2547444",
   "metadata": {},
   "outputs": [
    {
     "name": "stdout",
     "output_type": "stream",
     "text": [
      "Hello World\n"
     ]
    }
   ],
   "source": [
    "print(\"Hello World\")"
   ]
  },
  {
   "cell_type": "code",
   "execution_count": 14,
   "id": "618111ef",
   "metadata": {},
   "outputs": [
    {
     "name": "stdout",
     "output_type": "stream",
     "text": [
      "1745288806.568347\n",
      "Incorrect time stamp, TIME OUT or ATTACK. NICE TRY HACKER!!!\n"
     ]
    }
   ],
   "source": [
    "import time\n",
    "import hashlib\n",
    "import os\n",
    "\n",
    "session = os.urandom(32)\n",
    "timestamp = str(time.time()).encode()\n",
    "padded_timestamp = timestamp.ljust(32, b'\\x00')\n",
    "\n",
    "session_key = session + padded_timestamp\n",
    "\n",
    "# print(session_key)\n",
    "# print(len(session_key))\n",
    "\n",
    "rec_time = session_key[32:]\n",
    "decoded_time = rec_time.decode().rstrip('\\x00')\n",
    "timestamp_rec = float(decoded_time)\n",
    "print(timestamp_rec)\n",
    "\n",
    "now = time.time()\n",
    "diff_time = now - timestamp_rec + 12\n",
    "\n",
    "if abs(diff_time) <=10:\n",
    "    print(\"Time stamp is within the alloted time\")\n",
    "else:\n",
    "    print(\"Incorrect time stamp, TIME OUT or ATTACK. NICE TRY HACKER!!!\")\n"
   ]
  },
  {
   "cell_type": "code",
   "execution_count": null,
   "id": "93cdab83",
   "metadata": {},
   "outputs": [
    {
     "name": "stdout",
     "output_type": "stream",
     "text": [
      "b'\\xc5\\xf0u\\x8cC\\x8e\\x87\\xe7\\x08s1J\\x08\\x12\\x19O\\xd9\\xf2t\\x93\\x94\\xddff\\xc8\\x8a\\xee*^j\\xbd\\xed\\xdaS^H\\xc6o\\xd6\\x19K[\\x13\\xaa}uhTP\\x14\\x8b\\xad\\xf6\\xf9{\\xd1P\\xb56Q\\xac\\xc3yzqum\\xf52\\xac\\xaaO\\xa4\\xe7:Uv\\xd2\\xecuJkS\\x90a\\xc8m\\xc2\\x82\\x87\\xaf\\x83y\\x92\\xfe\\xd06\\xcc*rE\\r}\\xb5\\xed\\x82\\xf2\\xd7C\\xd1\\xc4\\x05f\\xfb\\x03\\x9f\\xb2\\x9f`\\xf3\\xb5t\\xe3\\x95\\x86\\xc0g\\n\\xd2ET\\x91\\xcf8\\x04\\xfb_S\\x8b(\\xc7G\\x1c\\x95\\x9fD_DL\\x88\\x89\\xb1s\\x17\\xaf\\xcd!\\x89\\xd5\\x9ag\\xf62\\x9e\\xaf\\xb7\\xf3\\xf5kw\\xbd5\\xfbv\\xd0\\xb8\\xe8o\\xdcY\\xb4b\\xcb\\x978S\\x92\\xb1\\x06=\\xe6\\xc6H\\xaa\\xcf\\x8e_\\x98\\xb8\\x10\\xa0\\xf1Y\\xa1\\x9bN\\xac\\x84\\x93`\\x08\\xde=\\xa9\\x83\\x057Y&\\x1d\\x8c=\\xf9\\x9f\\xf9x_\\x8b\\\\\\x08\\x0b\\xbe\\x93t\\xca\\xb7\\xfa\\xd8\\xe7\\xfa\\xb4j\\x14\\xef\\x18\\x98\\xe8\\x0c\\xd2\\x96\\xfc&\\x00\\xc9\\xae\\xfd\\xed\\xbd\\x00<~\\xb8\\x9d\\x82\\xab\\xb8\\xb2\\xe4+U;\\xb2\\xcb\\xd0\\xb3\\x82\\x91\\xd3\\xa7\\t\\xef\\xf4J\\xd4\\x1c\\xb0\\x8d@Y\\xc6@\\xc3j\\xc0G\\xed\\xd9\\xc6g\\x96zd(\\xd2\\\\\\xc9\\xaa\\xcd!\\xd3r\\xfa\\xa6\\xe4}\\x05\\xf1\\xb3\\xe2Y$\\x15\\xa7&\\n\\xf3\\\\\\x98\\x19-y\\xfb\\xf8\\xfa\\xd1\\x05\\xf0\\x8d\\x99}\\xca?\\xa4S\\xbex\\xc8M\\xcfE8\\x96'\n"
     ]
    }
   ],
   "source": [
    "import os, time\n",
    "from cryptography.hazmat.primitives.ciphers import Cipher, algorithms, modes\n",
    "from cryptography.hazmat.primitives import padding as sym_padding\n",
    "from cryptography.hazmat.primitives import hashes, serialization\n",
    "from cryptography.hazmat.primitives.asymmetric import rsa, padding\n",
    "from cryptography.hazmat.backends import default_backend\n",
    "\n",
    "def aes_env():\n",
    "    session = os.urandom(32)\n",
    "    time_stmp = str(time.time()).encode()\n",
    "    padded_timestamp = time_stmp.ljust(32, b'\\x00')\n",
    "    session_key = session + padded_timestamp\n",
    "    iv = os.urandom(16)\n",
    "    aes_key = os.urandom(32)\n",
    "    \n",
    "    '''\n",
    "    Notes from the crypto homework, no need to reinvent the wheel\n",
    "        sym_key was given directly to the function in the crypto file\n",
    "        param sym_key: the symmetric secret key (byte string)\n",
    "            I believe this maybe one of the areas where we combine multiple encryption types,\n",
    "            like the envelope method but with CBC mode. So generate data with sym_key, then\n",
    "            encrypt with RSA key then send data.\n",
    "\n",
    "        param iv: initial value used during encryption (byte string)\n",
    "\n",
    "        Data will probably be session key, this is the infor that really important\n",
    "    '''\n",
    "    #Encrypting using AESCBS Mode\n",
    "    cipher = Cipher(algorithms.AES(aes_key), modes.CBC(iv), backend=default_backend())\n",
    "    encryptor = cipher.encryptor()\n",
    "\n",
    "    #Padding\n",
    "    padder = sym_padding.PKCS7(128).padder()\n",
    "    padded_data = padder.update(session_key) + padder.finalize()\n",
    "    cipher_text = encryptor.update(padded_data) + encryptor.finalize()\n",
    "\n",
    "    private_key = rsa.generate_private_key(public_exponent=65537, key_size=2048)\n",
    "    public_key = private_key.public_key()\n",
    "\n",
    "    #Encrypt AES KEY\n",
    "    # public_key = None # Retrieve key from file\n",
    "    enc_key = public_key.encrypt(\n",
    "        aes_key,\n",
    "        padding.OAEP(\n",
    "            mgf=padding.MGF1(algorithm=hashes.SHA256()),\n",
    "            algorithm=hashes.SHA256(),\n",
    "            label=None\n",
    "        )\n",
    "    )\n",
    "    env_message = enc_key + iv + cipher_text\n",
    "\n",
    "    return env_message, private_key\n",
    "\n",
    "print(aes_env())"
   ]
  },
  {
   "cell_type": "markdown",
   "id": "1b6950f4",
   "metadata": {},
   "source": [
    "## Final Message size\n",
    "- enc_key = 256 bytes\n",
    "- iv = 16 bytes\n",
    "- cipher_text = 80 bytes\n",
    "    - I can also set the code so the last of the message is the cipher text."
   ]
  },
  {
   "cell_type": "code",
   "execution_count": null,
   "id": "d4a23730",
   "metadata": {},
   "outputs": [],
   "source": [
    "import os, time\n",
    "from cryptography.hazmat.primitives.ciphers import Cipher, algorithms, modes\n",
    "from cryptography.hazmat.primitives import padding as sym_padding\n",
    "from cryptography.hazmat.primitives import hashes, serialization\n",
    "from cryptography.hazmat.primitives.asymmetric import rsa, padding\n",
    "from cryptography.hazmat.backends import default_backend\n",
    "\n",
    "def dec_env(message):\n",
    "    enc_key, iv, cipher_text = message"
   ]
  }
 ],
 "metadata": {
  "kernelspec": {
   "display_name": "Python 3",
   "language": "python",
   "name": "python3"
  },
  "language_info": {
   "codemirror_mode": {
    "name": "ipython",
    "version": 3
   },
   "file_extension": ".py",
   "mimetype": "text/x-python",
   "name": "python",
   "nbconvert_exporter": "python",
   "pygments_lexer": "ipython3",
   "version": "3.10.12"
  }
 },
 "nbformat": 4,
 "nbformat_minor": 5
}
